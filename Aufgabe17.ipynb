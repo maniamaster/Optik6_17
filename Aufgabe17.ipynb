{
 "metadata": {
  "name": "Aufgabe7"
 },
 "nbformat": 3,
 "nbformat_minor": 0,
 "worksheets": [
  {
   "cells": [
    {
     "cell_type": "code",
     "collapsed": false,
     "input": [
      "import maabara as ma\n",
      "import numpy as np\n",
      "import scipy as sp\n",
      "import sympy as sym\n",
      "import matplotlib as mpl \n",
      "import matplotlib.pyplot as plt\n",
      "import math\n",
      "import matplotlib.gridspec as gridspec\n",
      "from matplotlib.ticker import MultipleLocator, FormatStrFormatter\n",
      "mpl.rcParams['text.usetex']=True\n",
      "mpl.rcParams['text.latex.unicode']=True\n",
      "mpl.rc('font', **{'family': 'serif', 'serif': ['Computer Modern']})\n",
      "\n",
      "plt.clf()\n",
      "plt.figure()\n",
      "ax=plt.subplot(111)\n",
      "x=np.linspace(0,0.1,1000)\n",
      "a=(1.5**2-(2*1.5+1)*1+(1.5+2)/1.5)/(32.*(1.5-1.)**2)\n",
      "ax.plot(x,((x**4*np.pi*a)/(4.*800e-9))**(1/3.))\n",
      "\n",
      "ax.set_title('Brennweite in Abh\u00e4ngigkeit des Strahldurchmessers')\n",
      "ax.legend(numpoints=1, markerscale=1.5, fontsize=10,ncol=3,fancybox=True, shadow=True, loc=0)\n",
      "ax.set_ylabel('Brennweite $f$ [m]')\n",
      "ax.set_xlabel('Strahldurchmesser $D$ [m]')\n",
      "ax.grid(True)\n",
      "\n",
      "plt.savefig(\"plot1.pdf\",transparent=True,format=\"pdf\",bbox_inches='tight')\n",
      "\n",
      "plt.clf()\n",
      "plt.figure()\n",
      "plt.ticklabel_format(style='sci', scilimits=(0,0))\n",
      "ax2=plt.subplot(111)\n",
      "x=np.linspace(0,2,1000)\n",
      "b=((4*(800e-9)**3*0.1)/(np.pi)**3)**(1/4.)\n",
      "n=1.5\n",
      "ax2.plot(x,b*((n**2-(2*n+1)*x+(n+2)/n*x**2)/(32.*(n-1.)**2))**(1/4.),'b-',label='$n=1,5$')\n",
      "n=1.7\n",
      "ax2.plot(x,b*((n**2-(2*n+1)*x+(n+2)/n*x**2)/(32.*(n-1.)**2))**(1/4.),'g-',label='$n=1,7$')\n",
      "n=1.9\n",
      "ax2.plot(x,b*((n**2-(2*n+1)*x+(n+2)/n*x**2)/(32.*(n-1.)**2))**(1/4.),'r-',label='$n=1,9$')\n",
      "\n",
      "ax2.set_xlabel('Formfaktor $K$')\n",
      "ax2.set_ylabel('minimaler Radius $w_0\\'$ [m]')\n",
      "ax2.grid(True)\n",
      "ax2.legend(loc=2)\n",
      "ax2.set_xticks(np.arange(0, 2, 0.1))\n",
      "plt.savefig(\"plot2.pdf\",transparent=True,format=\"pdf\",bbox_inches='tight')"
     ],
     "language": "python",
     "metadata": {},
     "outputs": [],
     "prompt_number": 41
    },
    {
     "cell_type": "code",
     "collapsed": false,
     "input": [],
     "language": "python",
     "metadata": {},
     "outputs": []
    }
   ],
   "metadata": {}
  }
 ]
}